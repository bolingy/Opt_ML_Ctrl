{
 "cells": [
  {
   "cell_type": "markdown",
   "metadata": {},
   "source": [
    "# 546 (Optimization for Learning and Control) hw0\n",
    "\n",
    "You are welcome (and encouraged) to work with others, but each individual must submit their own writeup.\n",
    "\n",
    "You are welcome to use analytical and numerical computational tools; if you do, include the **commented** sourcecode in your writeup (e.g. the .ipynb file).\n",
    "\n",
    "You are welcome to consult research articles and other materials; if you do, include a full citation in your writeup (e.g. the .ipynb file) and upload a .pdf of the article to Canvas alongside your homework submission."
   ]
  },
  {
   "cell_type": "markdown",
   "metadata": {},
   "source": [
    "## linear quadratic regulator\n",
    "\n",
    "Consider the discrete-time linear quadratic regulator problem (DT-LQR)\n",
    "\n",
    "$$\\min_u c_\\tau (x,u) \\ \\text{s.t.} \\ x_{s+1} = A_s x_s + B_s u_s,$$\n",
    "$$c_\\tau(x,u) = \\frac{1}{2} x_t^T P_t x_t + \\frac{1}{2}\\sum_{s=\\tau}^{t-1} x_s^T Q_s x_s + u_s^T R_s u_s$$\n",
    "\n",
    "where $P_t$, $\\{Q_s\\}_{s=\\tau}^{t-1}$, $\\{R_s\\}_{s=\\tau}^{t-1}$ are given symmetric positive-definite matrices.\n",
    "\n",
    "In this problem, you'll apply Bellman's dynamic programming principle to determine the optimal control, then verify this control is the same one obtained by a descent algorithm.\n",
    "\n",
    "a. Determine the optimal control and value at time $\\tau = t$ (i.e. minimize $c_t$ with respect to $u_t$, and let $v^*_t = c_t(x^*,u^*)$ denote the optimal value that can be obtained at time $t$)."
   ]
  },
  {
   "cell_type": "markdown",
   "metadata": {},
   "source": [
    "For $\\tau = t$ the optimal control can be any thing, since optimal control $u^*_t$ determine the system state at $t+1$ which we don't care about. And the cost is the current system state value $v_t^* = \\frac{1}{2} x_t^T P_t x_t$"
   ]
  },
  {
   "cell_type": "markdown",
   "metadata": {},
   "source": [
    "b. Determine the optimal control and value at time $\\tau = t-1$ (i.e. minimize $c_{t-1}$ with respect to $u_{t-1}$, and let $v^*_{t-1} = c_{t-1}(x^*,u^*)$ denote the optimal value that can be obtained at time $t-1$)."
   ]
  },
  {
   "cell_type": "markdown",
   "metadata": {},
   "source": [
    "At time $\\tau = t-1$, cost can be found:\n",
    "$$J_{t-1} = \\frac{1}{2} x^T_t P_t x_t + \\frac{1}{2}x^T_{t-1} Q_{t-1} x_{t-1} + \\frac{1}{2}u^T_{t-1} R_{t-1} u_{t-1}$$\n",
    "with system constrain:\n",
    "$$x_t = A_{t-1} x_{t-1} + B_{t-1}u_{t-1}$$\n",
    "\n",
    "Applying nonlinear programming:\n",
    "\n",
    "$D_{u_{t-1}} c_{t-1} = u^T_{t-1} R_{t-1} + x^T_t P(D_{u_{t-1}} x_t)$\n",
    "\n",
    "$u^*_{t-1} = -(B^T_{t-1} P_t B_{t-1} + R_{t-1})^{-1} B_{t-1}^T P_t A_{t-1} x_{t-1}$\n",
    "\n",
    "where the second derivative of the cost function needs to be positive:\n",
    "\n",
    "$D_{u_{t-1}}^2 c_{t-1} = R_{t-1} +B_{t-1}^T P_t B_{t-1} > 0$\n",
    "\n",
    "Then for cost in $\\tau = t-1$:\n",
    "$$v_{t-1}^* = \\frac{1}{2} x_{t-1}^T P_{t-1} x_{t-1}$$"
   ]
  },
  {
   "cell_type": "markdown",
   "metadata": {},
   "source": [
    "c. Note that the optimal control is linear in state and the optimal value is quadratic in state (i.e. determine $K_{t-1}$ and $P_{t-1}$ such that $u_{t-1} = K_{t-1} x_{t-1}$ and $v^*_{t-1} = c_{t-1}(x^*,u^*) = x_{t-1}^T P_{t-1} x_{t-1}$)."
   ]
  },
  {
   "cell_type": "markdown",
   "metadata": {},
   "source": [
    "As we've calculated the optimal control for $\\tau = t-1$ above:\n",
    "$$K_{t-1} = -(B_{t-1}^T P_{t} B_{t-1} + R_{t-1})^{-1} B_{t-1}^T P_{t-1} A_{t-1}$$\n",
    "$$P_{t-1} = (A_{t-1} - B_{t-1} K_{t-1})^T P{t} (A_{t-1} - B_{t-1} K_{t-1}) + K_{t-1}^T R_{t-1} K_{t-1} + Q_{t-1}$$"
   ]
  },
  {
   "cell_type": "markdown",
   "metadata": {},
   "source": [
    "d. Use the substitution in (c.) to generalize the calculation in (b.) to derive a recursive formula to compute the optimal control and value at any time $s\\in [\\tau,t]$."
   ]
  },
  {
   "cell_type": "markdown",
   "metadata": {},
   "source": [
    "For each time step $s \\in [\\tau,t]$ in a trajectory:\n",
    "\n",
    "$$u_s^* = -K_s x_s$$\n",
    "$$J_s^* = \\frac{1}{2} x_s^T P_s x_s$$\n",
    "$$-K_s = (B_s^T P_{s+1} B_s + R_s)^{-1} B_s^T P_{s+1} A_s$$\n",
    "$$P_s = (A_s - B_s K_s)^T P_{s+1} (A_s - B_s K_s) + K_s^T R_s K_s + Q_s$$"
   ]
  },
  {
   "cell_type": "markdown",
   "metadata": {},
   "source": [
    "e. Implement the recursion in (d.) numerically for the following system, which is a discretized linear spring-mass-damper (let $\\kappa,\\beta,q,r,\\Delta > 0$ be parameters that you can easily vary in your implementation):\n",
    "\n",
    "$$A^\\Delta = I + \\Delta \\left[\\begin{array}{cc} 0 & 1 \\\\ -\\kappa & -\\beta \\end{array}\\right],\\ B^\\Delta = \\Delta \\left[\\begin{array}{c} 0 \\\\ 1 \\end{array}\\right],\\ P_t = 0,\\ Q^\\Delta_s = q \\cdot \\Delta \\cdot I,\\ R^\\Delta_s = r \\cdot \\Delta \\cdot I.$$"
   ]
  },
  {
   "cell_type": "code",
   "execution_count": 140,
   "metadata": {},
   "outputs": [],
   "source": [
    "import numpy as np\n",
    "import math\n",
    "import numpy.linalg as la\n",
    "import scipy.linalg as sla\n",
    "import matplotlib.pyplot as plt\n",
    "import _547 as lst\n",
    "import control as ctrl\n",
    "%matplotlib inline\n",
    "\n",
    "\n",
    "\n",
    "import scipy as sp\n",
    "\n",
    "from _547 import *"
   ]
  },
  {
   "cell_type": "code",
   "execution_count": 182,
   "metadata": {},
   "outputs": [],
   "source": [
    "tri, k, b, q, r = 0.1, 1.0, 1.0, 1.0, 1.0\n",
    "t0 = 1\n",
    "tf = 10\n",
    "dt = 1\n",
    "\n",
    "#this function is modified from Prof. Sam Burden's EE548 lecture example\n",
    "def LQR(A,B,Q,R,Pt,tf, dt=1e-4):\n",
    "    t = 0.0\n",
    "    K = []\n",
    "    P = []\n",
    "    while t < tf:\n",
    "        Pi = sla.solve_continuous_are(A(tri, k, b, q, r),B(tri, k, b, q, r),\\\n",
    "                                      Q(tri, k, b, q, r),R(tri, k, b, q, r));\n",
    "        K.append(np.dot(la.inv(R(tri, k, b, q, r)), np.dot(B(tri, k, b, q, r).T,Pi)));\n",
    "        P.append(Pi);\n",
    "        t += dt;\n",
    "    K.append(np.dot(la.inv(R(tri, k, b, q, r)), np.dot(B(tri, k, b, q, r).T,Pt)))\n",
    "    P.append(Pt)\n",
    "    return np.asarray(K), np.asarray(P)"
   ]
  },
  {
   "cell_type": "code",
   "execution_count": 183,
   "metadata": {
    "scrolled": true
   },
   "outputs": [
    {
     "name": "stdout",
     "output_type": "stream",
     "text": [
      "Actual Cost\n",
      "17025.8896899\n"
     ]
    }
   ],
   "source": [
    "A = lambda tri, k, b, q, r : np.identity(2) + np.dot(tri, np.array([[0.0,1.0],[-k,-b]]))\n",
    "B = lambda tri, k, b, q, r : np.dot(tri, np.array([[0],[1]]))\n",
    "Q = lambda tri, k, b, q, r : np.dot(q*tri, np.identity(2))\n",
    "R = lambda tri, k, b, q, r : np.dot(r*tri, np.identity(1))\n",
    "Pt = np.zeros((2,2));\n",
    "K,P = LQR(A,B,Q,R,Pt,10,1)\n",
    "\n",
    "def u_out(t,x):\n",
    "    return -np.dot(K[int(t/dt)],x)\n",
    "\n",
    "def f(t,x,u):\n",
    "    return np.dot(A(tri, k, b, q, r),x) + np.dot(B(tri, k, b, q, r),u)\n",
    "\n",
    "def springMassCost(x,u):\n",
    "    J = 0.0\n",
    "    for i in range(len(x[:,0])):\n",
    "        J += .5*np.dot(np.dot(x[i,:].transpose(),P[i]), x[i,:])\n",
    "    return J\n",
    "\n",
    "x0 = np.asarray([1.0,0.0]) #Initial condition\n",
    "t_spring,x_spring,u_spring = lst.forward_euler(f=f,t=tf,x=x0,utx=u_out,dt=dt,return_u=True)\n",
    "u_spring = np.append(u_spring,[0.0])\n",
    "\n",
    "print ('Actual Cost')\n",
    "print (springMassCost(x_spring,u_spring))"
   ]
  },
  {
   "cell_type": "code",
   "execution_count": 184,
   "metadata": {},
   "outputs": [
    {
     "data": {
      "image/png": "[encoded data removed]",
      "text/plain": [
       "<matplotlib.figure.Figure at 0x7fc4536884e0>"
      ]
     },
     "metadata": {},
     "output_type": "display_data"
    }
   ],
   "source": [
    "plt.plot(x_spring[:,0])\n",
    "plt.plot(x_spring[:,1])\n",
    "plt.title('LQR Control of Project System')\n",
    "plt.xlabel('Time Step')\n",
    "plt.ylabel('State')\n",
    "plt.show()"
   ]
  },
  {
   "cell_type": "code",
   "execution_count": 185,
   "metadata": {},
   "outputs": [
    {
     "name": "stdout",
     "output_type": "stream",
     "text": [
      "Actual Cost\n",
      "52.3267286089\n"
     ]
    }
   ],
   "source": [
    "x0 = np.asarray([0.0,1.0]) #Initial condition\n",
    "t_spring,x_spring,u_spring = lst.forward_euler(f=f,t=tf,x=x0,utx=u_out,dt=dt,return_u=True)\n",
    "u_spring = np.append(u_spring,[0.0])\n",
    "\n",
    "print ('Actual Cost')\n",
    "print (springMassCost(x_spring,u_spring))"
   ]
  },
  {
   "cell_type": "code",
   "execution_count": 186,
   "metadata": {},
   "outputs": [
    {
     "data": {
      "image/png": "[encoded data removed]",
      "text/plain": [
       "<matplotlib.figure.Figure at 0x7fc45a7e1320>"
      ]
     },
     "metadata": {},
     "output_type": "display_data"
    }
   ],
   "source": [
    "plt.plot(x_spring[:,0])\n",
    "plt.plot(x_spring[:,1])\n",
    "plt.title('LQR Control of Project System')\n",
    "plt.xlabel('Time Step')\n",
    "plt.ylabel('State')\n",
    "plt.show()"
   ]
  },
  {
   "cell_type": "markdown",
   "metadata": {},
   "source": [
    "f. Verify your implementation in (e.) by performing gradient descent to approximate the optimal input on time horizon $t = 10\\cdot\\Delta$ and $t = 100\\cdot\\Delta$ for the following initial conditions with $\\kappa,\\beta,q,r = 1$, $\\Delta = 0.1$:\n",
    "\n",
    "$$x_1 = (1,0),\\ x_2 = (0,1).$$"
   ]
  },
  {
   "cell_type": "markdown",
   "metadata": {},
   "source": [
    "Unfortunately, the gradient descent algorithm I run here diverages my system instead of converge it. And the bug was not found prior to the submission.."
   ]
  },
  {
   "cell_type": "code",
   "execution_count": 173,
   "metadata": {},
   "outputs": [],
   "source": [
    "# from Prf. Sam Burden's EE548 lecture example\n",
    "def steepest_descent(u,x,J=None,DJ=None,a=0.001):\n",
    "  \"\"\"\n",
    "  execute one step of steepest descent:\n",
    "\n",
    "    u' = u - a * DJ(u) \n",
    "\n",
    "  input:\n",
    "    u - m array - base point\n",
    "    J : R^m --> R - objective \n",
    "    (optional:)\n",
    "    DJ : R^m --> R^m - gradient\n",
    "    a  : (J,u,d) |--> scalar  - stepsize \n",
    "\n",
    "  output:\n",
    "    u - a * DJ(u)\n",
    "  \"\"\"\n",
    "  if DJ is None:\n",
    "      assert J is not None, \"J must be provided if DJ isn't\"\n",
    "      DJ = lambda u_ : D(J,u_)\n",
    "  DJu = DJ(u,x)\n",
    "  assert DJu.size == u.size, 'DJ(u) has size m = u.size'\n",
    "  DJu.shape = (u.size,)\n",
    "  return u - a * DJu # steepest descent step\n",
    "\n",
    "'''\n",
    "DJ = lambda u,x : np.dot(np.dot(np.dot(A(tri, k, b, q, r),x).transpose(), Pt),B(tri, k, b, q, r)) +\\\n",
    "                    np.dot(u.transpose(), R(tri, k, b, q, r) + np.dot(np.dot(B(tri, k, b, q, r), Pt),\\\n",
    "                                                                      B(tri, k, b, q, r)))\n",
    "                                                          '''\n",
    "'''\n",
    "def DJ(u,x):\n",
    "    return np.dot(np.dot(np.dot(A(tri, k, b, q, r),x).transpose(), Pt),B(tri, k, b, q, r)) +\\\n",
    "            np.dot(u.transpose(), R(tri, k, b, q, r) + \\\n",
    "           np.dot(np.dot(B(tri, k, b, q, r).transpose(), Pt), B(tri, k, b, q, r)))\n",
    "'''\n",
    "\n",
    "def DJ(u,x):\n",
    "    return np.dot(u.transpose(), R(tri, k, b, q, r)) +\\\n",
    "            np.dot(\\\n",
    "                   np.dot((np.dot(A(tri, k, b, q, r), x)+\\\n",
    "                           np.dot(B(tri, k, b, q, r), u)).transpose(),\\\n",
    "                          Pt),\\\n",
    "                   B(tri, k, b, q, r))\n",
    "\n"
   ]
  },
  {
   "cell_type": "code",
   "execution_count": 174,
   "metadata": {},
   "outputs": [
    {
     "data": {
      "image/png": "[encoded data removed]",
      "text/plain": [
       "<matplotlib.figure.Figure at 0x7fc453666b70>"
      ]
     },
     "metadata": {},
     "output_type": "display_data"
    }
   ],
   "source": [
    "ui = [0.0]\n",
    "xi = [1.0,0.0]\n",
    "u_grad = [ui]\n",
    "x_grad = [xi]\n",
    "for k in range(40):\n",
    "    u_grad.append(steepest_descent(np.asarray(u_grad[-1]),np.asarray(x_grad[-1]),DJ=DJ).tolist())\n",
    "    x_grad.append(f(1, np.asarray(x_grad[-1]), np.asarray(u_grad[-1])).tolist())\n",
    "    \n",
    "u_grad = np.asarray(u_grad)\n",
    "x_grad = np.asarray(x_grad)\n",
    "    \n",
    "plt.plot(x_grad[:,0])\n",
    "plt.plot(x_grad[:,1])\n",
    "plt.title('GD Control of Project System')\n",
    "plt.xlabel('Time Step')\n",
    "plt.ylabel('State')\n",
    "plt.show()"
   ]
  },
  {
   "cell_type": "code",
   "execution_count": 172,
   "metadata": {},
   "outputs": [
    {
     "data": {
      "image/png": "[encoded data removed]",
      "text/plain": [
       "<matplotlib.figure.Figure at 0x7fc453641550>"
      ]
     },
     "metadata": {},
     "output_type": "display_data"
    }
   ],
   "source": [
    "ui = [0.0]\n",
    "xi = [0.0,1.0]\n",
    "u_grad = [ui]\n",
    "x_grad = [xi]\n",
    "for k in range(40):\n",
    "    u_grad.append(steepest_descent(np.asarray(u_grad[-1]),np.asarray(x_grad[-1]),DJ=DJ).tolist())\n",
    "    x_grad.append(f(1, np.asarray(x_grad[-1]), np.asarray(u_grad[-1])).tolist())\n",
    "    \n",
    "u_grad = np.asarray(u_grad)\n",
    "x_grad = np.asarray(x_grad)\n",
    "    \n",
    "plt.plot(x_grad[:,0])\n",
    "plt.plot(x_grad[:,1])\n",
    "plt.title('GD Control of Project System')\n",
    "plt.xlabel('Time Step')\n",
    "plt.ylabel('State')\n",
    "plt.show()"
   ]
  },
  {
   "cell_type": "markdown",
   "metadata": {},
   "source": [
    "g. Investigate how the optimal controls vary with respect to the ratio $q/r$ (i.e. let $q/r$ range from $0.1$ to $10$, compute the optimal control input, describe the trend you observe, and provide a visualization that clearly illustrates this trend)."
   ]
  },
  {
   "cell_type": "markdown",
   "metadata": {},
   "source": [
    "As the program shown below, with the $q/r$ ratio increase, the total cost of the system increase."
   ]
  },
  {
   "cell_type": "code",
   "execution_count": 193,
   "metadata": {},
   "outputs": [
    {
     "name": "stdout",
     "output_type": "stream",
     "text": [
      "Actual Cost\n",
      "169137.665927\n"
     ]
    }
   ],
   "source": [
    "q, r = 1.0, 10.0\n",
    "tri, k, b = 0.1, 1.0, 1.0\n",
    "t0 = 1\n",
    "tf = 10\n",
    "dt = 1\n",
    "\n",
    "#this function is modified from Prof. Sam Burden's EE548 lecture example\n",
    "def LQR(A,B,Q,R,Pt,tf, dt=1e-4):\n",
    "    t = 0.0\n",
    "    K = []\n",
    "    P = []\n",
    "    while t < tf:\n",
    "        Pi = sla.solve_continuous_are(A(tri, k, b, q, r),B(tri, k, b, q, r),\\\n",
    "                                      Q(tri, k, b, q, r),R(tri, k, b, q, r));\n",
    "        K.append(np.dot(la.inv(R(tri, k, b, q, r)), np.dot(B(tri, k, b, q, r).T,Pi)));\n",
    "        P.append(Pi);\n",
    "        t += dt;\n",
    "    K.append(np.dot(la.inv(R(tri, k, b, q, r)), np.dot(B(tri, k, b, q, r).T,Pt)))\n",
    "    P.append(Pt)\n",
    "    return np.asarray(K), np.asarray(P)\n",
    "\n",
    "A = lambda tri, k, b, q, r : np.identity(2) + np.dot(tri, np.array([[0.0,1.0],[-k,-b]]))\n",
    "B = lambda tri, k, b, q, r : np.dot(tri, np.array([[0],[1]]))\n",
    "Q = lambda tri, k, b, q, r : np.dot(q*tri, np.identity(2))\n",
    "R = lambda tri, k, b, q, r : np.dot(r*tri, np.identity(1))\n",
    "Pt = np.zeros((2,2));\n",
    "K,P = LQR(A,B,Q,R,Pt,10,1)\n",
    "\n",
    "def u_out(t,x):\n",
    "    return -np.dot(K[int(t/dt)],x)\n",
    "\n",
    "def f(t,x,u):\n",
    "    return np.dot(A(tri, k, b, q, r),x) + np.dot(B(tri, k, b, q, r),u)\n",
    "\n",
    "def springMassCost(x,u):\n",
    "    J = 0.0\n",
    "    for i in range(len(x[:,0])):\n",
    "        J += .5*np.dot(np.dot(x[i,:].transpose(),P[i]), x[i,:])\n",
    "    return J\n",
    "\n",
    "x0 = np.asarray([1.0,0.0]) #Initial condition\n",
    "t_spring,x_spring,u_spring = lst.forward_euler(f=f,t=tf,x=x0,utx=u_out,dt=dt,return_u=True)\n",
    "u_spring = np.append(u_spring,[0.0])\n",
    "print ('Actual Cost')\n",
    "print (springMassCost(x_spring,u_spring))"
   ]
  },
  {
   "cell_type": "code",
   "execution_count": 194,
   "metadata": {},
   "outputs": [
    {
     "name": "stdout",
     "output_type": "stream",
     "text": [
      "Actual Cost\n",
      "17025.8896899\n"
     ]
    }
   ],
   "source": [
    "q, r = 1.0, 1.0\n",
    "tri, k, b = 0.1, 1.0, 1.0\n",
    "t0 = 1\n",
    "tf = 10\n",
    "dt = 1\n",
    "\n",
    "#this function is modified from Prof. Sam Burden's EE548 lecture example\n",
    "def LQR(A,B,Q,R,Pt,tf, dt=1e-4):\n",
    "    t = 0.0\n",
    "    K = []\n",
    "    P = []\n",
    "    while t < tf:\n",
    "        Pi = sla.solve_continuous_are(A(tri, k, b, q, r),B(tri, k, b, q, r),\\\n",
    "                                      Q(tri, k, b, q, r),R(tri, k, b, q, r));\n",
    "        K.append(np.dot(la.inv(R(tri, k, b, q, r)), np.dot(B(tri, k, b, q, r).T,Pi)));\n",
    "        P.append(Pi);\n",
    "        t += dt;\n",
    "    K.append(np.dot(la.inv(R(tri, k, b, q, r)), np.dot(B(tri, k, b, q, r).T,Pt)))\n",
    "    P.append(Pt)\n",
    "    return np.asarray(K), np.asarray(P)\n",
    "\n",
    "A = lambda tri, k, b, q, r : np.identity(2) + np.dot(tri, np.array([[0.0,1.0],[-k,-b]]))\n",
    "B = lambda tri, k, b, q, r : np.dot(tri, np.array([[0],[1]]))\n",
    "Q = lambda tri, k, b, q, r : np.dot(q*tri, np.identity(2))\n",
    "R = lambda tri, k, b, q, r : np.dot(r*tri, np.identity(1))\n",
    "Pt = np.zeros((2,2));\n",
    "K,P = LQR(A,B,Q,R,Pt,10,1)\n",
    "\n",
    "def u_out(t,x):\n",
    "    return -np.dot(K[int(t/dt)],x)\n",
    "\n",
    "def f(t,x,u):\n",
    "    return np.dot(A(tri, k, b, q, r),x) + np.dot(B(tri, k, b, q, r),u)\n",
    "\n",
    "def springMassCost(x,u):\n",
    "    J = 0.0\n",
    "    for i in range(len(x[:,0])):\n",
    "        J += .5*np.dot(np.dot(x[i,:].transpose(),P[i]), x[i,:])\n",
    "    return J\n",
    "\n",
    "x0 = np.asarray([1.0,0.0]) #Initial condition\n",
    "t_spring,x_spring,u_spring = lst.forward_euler(f=f,t=tf,x=x0,utx=u_out,dt=dt,return_u=True)\n",
    "u_spring = np.append(u_spring,[0.0])\n",
    "print ('Actual Cost')\n",
    "print (springMassCost(x_spring,u_spring))"
   ]
  },
  {
   "cell_type": "code",
   "execution_count": 195,
   "metadata": {},
   "outputs": [
    {
     "name": "stdout",
     "output_type": "stream",
     "text": [
      "Actual Cost\n",
      "18174.1013284\n"
     ]
    }
   ],
   "source": [
    "q, r = 10.0, 1.0\n",
    "tri, k, b = 0.1, 1.0, 1.0\n",
    "t0 = 1\n",
    "tf = 10\n",
    "dt = 1\n",
    "\n",
    "#this function is modified from Prof. Sam Burden's EE548 lecture example\n",
    "def LQR(A,B,Q,R,Pt,tf, dt=1e-4):\n",
    "    t = 0.0\n",
    "    K = []\n",
    "    P = []\n",
    "    while t < tf:\n",
    "        Pi = sla.solve_continuous_are(A(tri, k, b, q, r),B(tri, k, b, q, r),\\\n",
    "                                      Q(tri, k, b, q, r),R(tri, k, b, q, r));\n",
    "        K.append(np.dot(la.inv(R(tri, k, b, q, r)), np.dot(B(tri, k, b, q, r).T,Pi)));\n",
    "        P.append(Pi);\n",
    "        t += dt;\n",
    "    K.append(np.dot(la.inv(R(tri, k, b, q, r)), np.dot(B(tri, k, b, q, r).T,Pt)))\n",
    "    P.append(Pt)\n",
    "    return np.asarray(K), np.asarray(P)\n",
    "\n",
    "A = lambda tri, k, b, q, r : np.identity(2) + np.dot(tri, np.array([[0.0,1.0],[-k,-b]]))\n",
    "B = lambda tri, k, b, q, r : np.dot(tri, np.array([[0],[1]]))\n",
    "Q = lambda tri, k, b, q, r : np.dot(q*tri, np.identity(2))\n",
    "R = lambda tri, k, b, q, r : np.dot(r*tri, np.identity(1))\n",
    "Pt = np.zeros((2,2));\n",
    "K,P = LQR(A,B,Q,R,Pt,10,1)\n",
    "\n",
    "def u_out(t,x):\n",
    "    return -np.dot(K[int(t/dt)],x)\n",
    "\n",
    "def f(t,x,u):\n",
    "    return np.dot(A(tri, k, b, q, r),x) + np.dot(B(tri, k, b, q, r),u)\n",
    "\n",
    "def springMassCost(x,u):\n",
    "    J = 0.0\n",
    "    for i in range(len(x[:,0])):\n",
    "        J += .5*np.dot(np.dot(x[i,:].transpose(),P[i]), x[i,:])\n",
    "    return J\n",
    "\n",
    "x0 = np.asarray([1.0,0.0]) #Initial condition\n",
    "t_spring,x_spring,u_spring = lst.forward_euler(f=f,t=tf,x=x0,utx=u_out,dt=dt,return_u=True)\n",
    "u_spring = np.append(u_spring,[0.0])\n",
    "print ('Actual Cost')\n",
    "print (springMassCost(x_spring,u_spring))"
   ]
  },
  {
   "cell_type": "markdown",
   "metadata": {},
   "source": [
    "h. Compare the results from (e.)/(f.) with the results obtained from the solution to the continuous-time linear quadratic regulator (CT-LQR):\n",
    "\n",
    "$$A = \\frac{1}{\\Delta} (A^\\Delta - I),\\ B = \\frac{1}{\\Delta} B^\\Delta,\\ Q = \\frac{1}{\\Delta} Q^\\Delta,\\ R = \\frac{1}{\\Delta} R^\\Delta,$$\n",
    "\n",
    "$$u^*_s = - K_s x_s,\\ K_s = R^{-1} B^T P_s,$$\n",
    "\n",
    "$$v^*_s = \\frac{1}{2} x_s^T P_s x_s,\\ \\dot{P_s} = -(A^T P_s + P_s A - P_s B R^{-1} B^T P_s + Q).$$\n",
    "\n",
    "Investigate how the comparison varies with respect to $\\Delta$ (i.e. let $\\Delta$ range from $\\sim 10^0$ to $\\sim 10^{-8}$ and plot the norm of the difference between the optimal inputs and values as a function of $\\Delta$). \n"
   ]
  },
  {
   "cell_type": "markdown",
   "metadata": {},
   "source": [
    "**BONUS** show that the solution to (CT-LQR) can be obtained by taking the limit of the (DT-LQR) recursion from (d.)/(e.) as $\\Delta \\rightarrow 0$."
   ]
  },
  {
   "cell_type": "markdown",
   "metadata": {},
   "source": [
    "## application\n",
    "\n",
    "a. Specify an optimal control problem for a system of your choosing (e.g. a system from the paper you plan to present or the project you plan to complete for the class).  Be precise:  provide the mathematical definitions for all symbols.  Also, be clear:  provide plain language explanations for what each symbol corresponds to in the application.\n",
    "\n",
    "b. Discuss what methods have been applied in the literature to solve or approximate solutions to the optimal control problem from (a.), and what (if anything) is known about the solution.\n",
    "\n",
    "c. Attempt to apply a technique for optimal control to the problem from (a.).  You can try one of the methods discussed in class (e.g. directly apply the dynamic programming principle, or apply a numerical descent algorithm), one of the methods discussed in (b.), or another method of your choosing.  "
   ]
  },
  {
   "cell_type": "code",
   "execution_count": null,
   "metadata": {},
   "outputs": [],
   "source": []
  }
 ],
 "metadata": {
  "anaconda-cloud": {},
  "kernelspec": {
   "display_name": "Python 3",
   "language": "python",
   "name": "python3"
  },
  "language_info": {
   "codemirror_mode": {
    "name": "ipython",
    "version": 3
   },
   "file_extension": ".py",
   "mimetype": "text/x-python",
   "name": "python",
   "nbconvert_exporter": "python",
   "pygments_lexer": "ipython3",
   "version": "3.4.3"
  }
 },
 "nbformat": 4,
 "nbformat_minor": 1
}
