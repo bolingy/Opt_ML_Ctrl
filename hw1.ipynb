{
 "cells": [
  {
   "cell_type": "markdown",
   "metadata": {},
   "source": [
    "# 546 (Optimization for Learning and Control) hw0\n",
    "\n",
    "You are welcome (and encouraged) to work with others, but each individual must submit their own writeup.\n",
    "\n",
    "You are welcome to use analytical and numerical computational tools; if you do, include the **commented** sourcecode in your writeup (e.g. the .ipynb file).\n",
    "\n",
    "You are welcome to consult research articles and other materials; if you do, include a full citation in your writeup (e.g. the .ipynb file) and upload a .pdf of the article to Canvas alongside your homework submission."
   ]
  },
  {
   "cell_type": "markdown",
   "metadata": {},
   "source": [
    "## linear quadratic regulator\n",
    "\n",
    "Consider the discrete-time linear quadratic regulator problem (DT-LQR)\n",
    "\n",
    "$$\\min_u c_\\tau (x,u) \\ \\text{s.t.} \\ x_{s+1} = A_s x_s + B_s u_s,$$\n",
    "$$c_\\tau(x,u) = \\frac{1}{2} x_t^T P_t x_t + \\frac{1}{2}\\sum_{s=\\tau}^{t-1} x_s^T Q_s x_s + u_s^T R_s u_s$$\n",
    "\n",
    "where $P_t$, $\\{Q_s\\}_{s=\\tau}^{t-1}$, $\\{R_s\\}_{s=\\tau}^{t-1}$ are given symmetric positive-definite matrices.\n",
    "\n",
    "In this problem, you'll apply Bellman's dynamic programming principle to determine the optimal control, then verify this control is the same one obtained by a descent algorithm.\n",
    "\n",
    "a. Determine the optimal control and value at time $\\tau = t$ (i.e. minimize $c_t$ with respect to $u_t$, and let $v^*_t = c_t(x^*,u^*)$ denote the optimal value that can be obtained at time $t$)."
   ]
  },
  {
   "cell_type": "markdown",
   "metadata": {},
   "source": [
    "For $\\tau = t$ the optimal control can be any thing, since optimal control $u^*_t$ determine the system state at $t+1$ which we don't care about. And the cost is the current system state value $v_t^* = \\frac{1}{2} x_t^T P_t x_t$"
   ]
  },
  {
   "cell_type": "markdown",
   "metadata": {},
   "source": [
    "b. Determine the optimal control and value at time $\\tau = t-1$ (i.e. minimize $c_{t-1}$ with respect to $u_{t-1}$, and let $v^*_{t-1} = c_{t-1}(x^*,u^*)$ denote the optimal value that can be obtained at time $t-1$)."
   ]
  },
  {
   "cell_type": "markdown",
   "metadata": {},
   "source": [
    "At time $\\tau = t-1$, cost can be found:\n",
    "$$J_{t-1} = \\frac{1}{2} x^T_t P_t x_t + \\frac{1}{2}x^T_{t-1} Q_{t-1} x_{t-1} + \\frac{1}{2}u^T_{t-1} R_{t-1} u_{t-1}$$\n",
    "with system constrain:\n",
    "$$x_t = A_{t-1} x_{t-1} + B_{t-1}u_{t-1}$$\n",
    "\n",
    "Applying nonlinear programming:\n",
    "\n",
    "$D_{u_{t-1}} c_{t-1} = u^T_{t-1} R_{t-1} + x^T_t P(D_{u_{t-1}} x_t)$\n",
    "\n",
    "$u^*_{t-1} = -(B^T_{t-1} P_t B_{t-1} + R_{t-1})^{-1} B_{t-1}^T P_t A_{t-1} x_{t-1}$\n",
    "\n",
    "where the second derivative of the cost function needs to be positive:\n",
    "\n",
    "$D_{u_{t-1}}^2 c_{t-1} = R_{t-1} +B_{t-1}^T P_t B_{t-1} > 0$\n",
    "\n",
    "Then for cost in $\\tau = t-1$:\n",
    "$$v_{t-1}^* = \\frac{1}{2} x_{t-1}^T P_{t-1} x_{t-1}$$"
   ]
  },
  {
   "cell_type": "markdown",
   "metadata": {},
   "source": [
    "c. Note that the optimal control is linear in state and the optimal value is quadratic in state (i.e. determine $K_{t-1}$ and $P_{t-1}$ such that $u_{t-1} = K_{t-1} x_{t-1}$ and $v^*_{t-1} = c_{t-1}(x^*,u^*) = x_{t-1}^T P_{t-1} x_{t-1}$)."
   ]
  },
  {
   "cell_type": "markdown",
   "metadata": {},
   "source": [
    "As we've calculated the optimal control for $\\tau = t-1$ above:\n",
    "$$K_{t-1} = -(B_{t-1}^T P_{t} B_{t-1} + R_{t-1})^{-1} B_{t-1}^T P_{t-1} A_{t-1}$$\n",
    "$$P_{t-1} = (A_{t-1} - B_{t-1} K_{t-1})^T P{t} (A_{t-1} - B_{t-1} K_{t-1}) + K_{t-1}^T R_{t-1} K_{t-1} + Q_{t-1}$$"
   ]
  },
  {
   "cell_type": "markdown",
   "metadata": {},
   "source": [
    "d. Use the substitution in (c.) to generalize the calculation in (b.) to derive a recursive formula to compute the optimal control and value at any time $s\\in [\\tau,t]$."
   ]
  },
  {
   "cell_type": "markdown",
   "metadata": {},
   "source": [
    "For each time step $s \\in [\\tau,t]$ in a trajectory:\n",
    "\n",
    "$$u_s^* = -K_s x_s$$\n",
    "$$J_s^* = \\frac{1}{2} x_s^T P_s x_s$$\n",
    "$$-K_s = (B_s^T P_{s+1} B_s + R_s)^{-1} B_s^T P_{s+1} A_s$$\n",
    "$$P_s = (A_s - B_s K_s)^T P_{s+1} (A_s - B_s K_s) + K_s^T R_s K_s + Q_s$$"
   ]
  },
  {
   "cell_type": "markdown",
   "metadata": {},
   "source": [
    "e. Implement the recursion in (d.) numerically for the following system, which is a discretized linear spring-mass-damper (let $\\kappa,\\beta,q,r,\\Delta > 0$ be parameters that you can easily vary in your implementation):\n",
    "\n",
    "$$A^\\Delta = I + \\Delta \\left[\\begin{array}{cc} 0 & 1 \\\\ -\\kappa & -\\beta \\end{array}\\right],\\ B^\\Delta = \\Delta \\left[\\begin{array}{c} 0 \\\\ 1 \\end{array}\\right],\\ P_t = 0,\\ Q^\\Delta_s = q \\cdot \\Delta \\cdot I,\\ R^\\Delta_s = r \\cdot \\Delta \\cdot I.$$"
   ]
  },
  {
   "cell_type": "code",
   "execution_count": 14,
   "metadata": {},
   "outputs": [],
   "source": [
    "import numpy as np\n",
    "import math\n",
    "import numpy.linalg as la\n",
    "import scipy.linalg as sla\n",
    "import matplotlib.pyplot as plt\n",
    "import _547 as lst\n",
    "import control as ctrl\n",
    "%matplotlib inline\n",
    "\n",
    "\n",
    "\n",
    "import scipy as sp\n",
    "\n",
    "from _547 import *"
   ]
  },
  {
   "cell_type": "code",
   "execution_count": 49,
   "metadata": {},
   "outputs": [],
   "source": [
    "tri, k, b, q, r = 0.1, 1.0, 1.0, 1.0, 1.0\n",
    "t0 = 1\n",
    "tf = 10\n",
    "dt = 1\n",
    "\n",
    "#this function is modified from Prof. Sam Burden's EE548 lecture example\n",
    "def LQR(A,B,Q,R,Pt,tf, dt=1e-1):\n",
    "    t = 0.0\n",
    "    K = []\n",
    "    P = []\n",
    "    while t < tf:\n",
    "        Pi = sla.solve_continuous_are(A(tri, k, b, q, r),B(tri, k, b, q, r),\\\n",
    "                                      Q(tri, k, b, q, r),R(tri, k, b, q, r));\n",
    "        K.append(np.dot(la.inv(R(tri, k, b, q, r)), np.dot(B(tri, k, b, q, r).T,Pi)));\n",
    "        P.append(Pi);\n",
    "        t += dt;\n",
    "    K.append(np.dot(la.inv(R(tri, k, b, q, r)), np.dot(B(tri, k, b, q, r).T,Pt)))\n",
    "    P.append(Pt)\n",
    "    return np.asarray(K), np.asarray(P)"
   ]
  },
  {
   "cell_type": "code",
   "execution_count": 50,
   "metadata": {
    "scrolled": true
   },
   "outputs": [
    {
     "name": "stdout",
     "output_type": "stream",
     "text": [
      "11\n",
      "11\n",
      "fw\n",
      "[-381.10680589]\n",
      "fw\n",
      "[ 691.90737495]\n",
      "fw\n",
      "[ 69.17073749]\n",
      "fw\n",
      "[-0.38295556]\n",
      "fw\n",
      "[-0.72768976]\n",
      "fw\n",
      "[-0.06491242]\n",
      "fw\n",
      "[ 0.00114294]\n",
      "fw\n",
      "[ 0.00075691]\n",
      "fw\n",
      "[  6.00749817e-05]\n",
      "[ -3.81106806e+02   6.91907375e+02   6.91707375e+01  -3.82955563e-01\n",
      "  -7.27689764e-01  -6.49124176e-02   1.14293980e-03   7.56910054e-04\n",
      "   6.00749817e-05   0.00000000e+00]\n"
     ]
    }
   ],
   "source": [
    "A = lambda tri, k, b, q, r : np.identity(2) + np.dot(tri, np.array([[0.0,1.0],[-k,-b]]))\n",
    "B = lambda tri, k, b, q, r : np.dot(tri, np.array([[0],[1]]))\n",
    "Q = lambda tri, k, b, q, r : np.dot(q, np.identity(2))\n",
    "R = lambda tri, k, b, q, r : np.dot(r, np.identity(1))\n",
    "#K = lambda t: np.zeros((t,1,2))\n",
    "#P = lambda t: np.zeros((t+1,2,2))\n",
    "Pt = np.zeros((2,2));\n",
    "K,P = LQR(A,B,Q,R,Pt,10,1)\n",
    "\n",
    "print (len(K))\n",
    "print (len(P))\n",
    "\n",
    "def u_out(t,x):\n",
    "    return -np.dot(K[int(t/dt)],x)\n",
    "\n",
    "def f(t,x,u):\n",
    "    return np.dot(A(tri, k, b, q, r),x) + np.dot(B(tri, k, b, q, r),u)\n",
    "\n",
    "def springMassCost(x,u):\n",
    "    J = 0.0\n",
    "    for i in range(len(x[:,0])):\n",
    "        J += .5*np.dot(np.dot(x[i,:].transpose(),P[i]), x[i,:])\n",
    "    return J\n",
    "\n",
    "x0 = np.asarray([1.0,0.0]) #Initial condition\n",
    "t_spring,x_spring,u_spring = lst.forward_euler(f=f,t=tf,x=x0,utx=u_out,dt=dt,return_u=True)\n",
    "u_spring = np.append(u_spring,[0.0])\n",
    "\n",
    "print(u_spring)\n",
    "#print ('Actual Cost')\n",
    "#print (springMassCost(x_spring,u_spring))"
   ]
  },
  {
   "cell_type": "code",
   "execution_count": 42,
   "metadata": {},
   "outputs": [
    {
     "data": {
      "image/png": "[encoded data removed]",
      "text/plain": [
       "<matplotlib.figure.Figure at 0x7fb05af69a90>"
      ]
     },
     "metadata": {},
     "output_type": "display_data"
    }
   ],
   "source": [
    "plt.plot(u_spring)\n",
    "plt.title('LQR Control of Project System')\n",
    "plt.xlabel('Time Step')\n",
    "plt.ylabel('control')\n",
    "plt.show()"
   ]
  },
  {
   "cell_type": "code",
   "execution_count": 43,
   "metadata": {},
   "outputs": [
    {
     "name": "stdout",
     "output_type": "stream",
     "text": [
      "fw\n",
      "[-38.05535427]\n",
      "fw\n",
      "[ 34.40514516]\n",
      "fw\n",
      "[ 3.63051452]\n",
      "fw\n",
      "[-0.00100028]\n",
      "fw\n",
      "[-0.03638949]\n",
      "fw\n",
      "[-0.00342752]\n",
      "fw\n",
      "[  4.00141932e-05]\n",
      "fw\n",
      "[  3.80455177e-05]\n",
      "fw\n",
      "[  3.19392350e-06]\n",
      "Actual Cost\n",
      "523.267286089\n"
     ]
    }
   ],
   "source": [
    "x0 = np.asarray([0.0,1.0]) #Initial condition\n",
    "t_spring,x_spring,u_spring = lst.forward_euler(f=f,t=tf,x=x0,utx=u_out,dt=dt,return_u=True)\n",
    "u_spring = np.append(u_spring,[0.0])\n",
    "\n",
    "print ('Actual Cost')\n",
    "print (springMassCost(x_spring,u_spring))"
   ]
  },
  {
   "cell_type": "code",
   "execution_count": 44,
   "metadata": {},
   "outputs": [
    {
     "data": {
      "image/png": "[encoded data removed]",
      "text/plain": [
       "<matplotlib.figure.Figure at 0x7fb05ae80630>"
      ]
     },
     "metadata": {},
     "output_type": "display_data"
    }
   ],
   "source": [
    "plt.plot(u_spring)\n",
    "plt.title('LQR Control of Project System')\n",
    "plt.xlabel('Time Step')\n",
    "plt.ylabel('control')\n",
    "plt.show()"
   ]
  },
  {
   "cell_type": "code",
   "execution_count": 46,
   "metadata": {},
   "outputs": [
    {
     "data": {
      "image/png": "[encoded data removed]",
      "text/plain": [
       "<matplotlib.figure.Figure at 0x7fb05ae6a358>"
      ]
     },
     "metadata": {},
     "output_type": "display_data"
    },
    {
     "data": {
      "image/png": "[encoded data removed]",
      "text/plain": [
       "<matplotlib.figure.Figure at 0x7fb0c44d84e0>"
      ]
     },
     "metadata": {},
     "output_type": "display_data"
    }
   ],
   "source": [
    "t = 100\n",
    "m = 1\n",
    "n = 2\n",
    "\n",
    "def riccati(A,B,Q,R,P):\n",
    "    # optimal control is linear state feedback \n",
    "    K_ = np.dot( la.inv(np.dot(B.T,np.dot(P,B)) + R), np.dot(B.T,np.dot(P,A)) )\n",
    "    # optimal value is quadratic in state\n",
    "    P_ = np.dot( (A - np.dot(B,K_)).T, np.dot(P, (A - np.dot(B,K_))) + np.dot(K_.T, np.dot(R, K_)) + Q )\n",
    "    return K_,P_\n",
    "\n",
    "n = 2\n",
    "m = 1\n",
    "\n",
    "def lqr(t,kappa=1,beta=1,q=1,r=1,Delta=1e-1):\n",
    "    A = np.identity(n) + Delta * np.array([[0,1],[-kappa,-beta]])\n",
    "    B = Delta * np.array([[0],[1]])\n",
    "    Q = q * np.identity(n) # running state cost\n",
    "    R = r * np.identity(m) # running control cost\n",
    "\n",
    "    K = np.zeros((t,m,n)) # linear state feedback gain matrix\n",
    "    P = np.zeros((t+1,n,n)) # cost-to-go\n",
    "\n",
    "    Pt = np.zeros((n,n)) # final state cost\n",
    "    P[t] = Pt\n",
    "\n",
    "    # loop over times\n",
    "    for s in range(t)[::-1]: # loop backward in time\n",
    "        K[s],P[s] = riccati(A,B,Q,R,P[s+1])\n",
    "        \n",
    "    return A,B,Q,R,K,P\n",
    "\n",
    "u1 = np.zeros((t,m,1))\n",
    "x1 = np.zeros((t+1,n,1))\n",
    "x1[0] = [[1],[0]]\n",
    "v1 = np.zeros((t))\n",
    "\n",
    "u2 = np.zeros((t,m,1))\n",
    "x2 = np.zeros((t+1,n,1))\n",
    "x2[0] = [[0],[1]]\n",
    "v2 = np.zeros((t))\n",
    "\n",
    "A,B,Q,R,K,P = lqr(t)\n",
    "\n",
    "for s in range(t):\n",
    "    u1[s] = np.dot(-K[s],x1[s])\n",
    "    x1[s+1] = np.dot(A,x1[s]) + np.dot(B, u1[s])\n",
    "    v1[s] = 0.5 * np.dot( x1[s].T, np.dot(P[s], x1[s]) )\n",
    "    u2[s] = np.dot(-K[s],x2[s])\n",
    "    x2[s+1] = np.dot(A,x2[s]) + np.dot(B, u2[s])\n",
    "    v1[s] = 0.5 * np.dot( x1[s].T, np.dot(P[s], x1[s]) )\n",
    "    \n",
    "plt.plot(u1[:,0,0])\n",
    "plt.title('LQR Control of Project System')\n",
    "plt.xlabel('Time Step')\n",
    "plt.ylabel('control')\n",
    "plt.show()\n",
    "plt.plot(u2[:,0,0])\n",
    "plt.title('LQR Control of Project System')\n",
    "plt.xlabel('Time Step')\n",
    "plt.ylabel('control')\n",
    "plt.show()"
   ]
  },
  {
   "cell_type": "markdown",
   "metadata": {},
   "source": [
    "f. Verify your implementation in (e.) by performing gradient descent to approximate the optimal input on time horizon $t = 10\\cdot\\Delta$ and $t = 100\\cdot\\Delta$ for the following initial conditions with $\\kappa,\\beta,q,r = 1$, $\\Delta = 0.1$:\n",
    "\n",
    "$$x_1 = (1,0),\\ x_2 = (0,1).$$"
   ]
  },
  {
   "cell_type": "markdown",
   "metadata": {},
   "source": [
    "Unfortunately, the gradient descent algorithm I run here diverages my system instead of converge it. And the bug was not found prior to the submission.."
   ]
  },
  {
   "cell_type": "code",
   "execution_count": 14,
   "metadata": {},
   "outputs": [],
   "source": [
    "# from Prf. Sam Burden's EE548 lecture example\n",
    "def steepest_descent(u,x,J=None,DJ=None,a=0.001):\n",
    "  \"\"\"\n",
    "  execute one step of steepest descent:\n",
    "\n",
    "    u' = u - a * DJ(u) \n",
    "\n",
    "  input:\n",
    "    u - m array - base point\n",
    "    J : R^m --> R - objective \n",
    "    (optional:)\n",
    "    DJ : R^m --> R^m - gradient\n",
    "    a  : (J,u,d) |--> scalar  - stepsize \n",
    "\n",
    "  output:\n",
    "    u - a * DJ(u)\n",
    "  \"\"\"\n",
    " if DJ is None:\n",
    "      assert J is not None, \"J must be provided if DJ isn't\"\n",
    "      DJ = lambda u_ : D(J,u_)\n",
    "  DJu = DJ(u,x)\n",
    "  assert DJu.size == u.size, 'DJ(u) has size m = u.size'\n",
    "  DJu.shape = (u.size,)\n",
    "  return u - a * DJu # steepest descent step\n",
    "\n",
    "'''\n",
    "DJ = lambda u,x : np.dot(np.dot(np.dot(A(tri, k, b, q, r),x).transpose(), Pt),B(tri, k, b, q, r)) +\\\n",
    "                    np.dot(u.transpose(), R(tri, k, b, q, r) + np.dot(np.dot(B(tri, k, b, q, r), Pt),\\\n",
    "                                                                      B(tri, k, b, q, r)))\n",
    "                                                          '''\n",
    "'''\n",
    "def DJ(u,x):\n",
    "    return np.dot(np.dot(np.dot(A(tri, k, b, q, r),x).transpose(), Pt),B(tri, k, b, q, r)) +\\\n",
    "            np.dot(u.transpose(), R(tri, k, b, q, r) + \\\n",
    "           np.dot(np.dot(B(tri, k, b, q, r).transpose(), Pt), B(tri, k, b, q, r)))\n",
    "'''\n",
    "\n",
    "def DJ(u,x):\n",
    "    return np.dot(u.transpose(), R(tri, k, b, q, r)) +\\\n",
    "            np.dot(\\\n",
    "                   np.dot((np.dot(A(tri, k, b, q, r), x)+\\\n",
    "                           np.dot(B(tri, k, b, q, r), u)).transpose(),\\\n",
    "                          Pt),\\\n",
    "                   B(tri, k, b, q, r))\n",
    "\n"
   ]
  },
  {
   "cell_type": "code",
   "execution_count": 48,
   "metadata": {},
   "outputs": [
    {
     "ename": "AssertionError",
     "evalue": "J must be provided if DJ isn't",
     "output_type": "error",
     "traceback": [
      "\u001b[0;31m---------------------------------------------------------------------------\u001b[0m",
      "\u001b[0;31mAssertionError\u001b[0m                            Traceback (most recent call last)",
      "\u001b[0;32m<ipython-input-48-101cfaf5b840>\u001b[0m in \u001b[0;36m<module>\u001b[0;34m()\u001b[0m\n\u001b[1;32m     15\u001b[0m \u001b[0mw1\u001b[0m \u001b[0;34m=\u001b[0m \u001b[0mu1\u001b[0m\u001b[0;34m.\u001b[0m\u001b[0mreshape\u001b[0m\u001b[0;34m(\u001b[0m\u001b[0;34m(\u001b[0m\u001b[0mt\u001b[0m\u001b[0;34m*\u001b[0m\u001b[0mm\u001b[0m\u001b[0;34m)\u001b[0m\u001b[0;34m)\u001b[0m\u001b[0;34m\u001b[0m\u001b[0m\n\u001b[1;32m     16\u001b[0m \u001b[0;32mfor\u001b[0m \u001b[0m_\u001b[0m \u001b[0;32min\u001b[0m \u001b[0mrange\u001b[0m\u001b[0;34m(\u001b[0m\u001b[0;36m8\u001b[0m\u001b[0;34m)\u001b[0m\u001b[0;34m:\u001b[0m\u001b[0;34m\u001b[0m\u001b[0m\n\u001b[0;32m---> 17\u001b[0;31m     \u001b[0mw1\u001b[0m \u001b[0;34m=\u001b[0m \u001b[0msteepest_descent\u001b[0m\u001b[0;34m(\u001b[0m\u001b[0mw1\u001b[0m\u001b[0;34m,\u001b[0m\u001b[0mc1\u001b[0m\u001b[0;34m)\u001b[0m\u001b[0;34m\u001b[0m\u001b[0m\n\u001b[0m\u001b[1;32m     18\u001b[0m \u001b[0mu1_\u001b[0m \u001b[0;34m=\u001b[0m \u001b[0mw1\u001b[0m\u001b[0;34m.\u001b[0m\u001b[0mreshape\u001b[0m\u001b[0;34m(\u001b[0m\u001b[0;34m(\u001b[0m\u001b[0mt\u001b[0m\u001b[0;34m,\u001b[0m\u001b[0mm\u001b[0m\u001b[0;34m,\u001b[0m\u001b[0;36m1\u001b[0m\u001b[0;34m)\u001b[0m\u001b[0;34m)\u001b[0m\u001b[0;34m\u001b[0m\u001b[0m\n\u001b[1;32m     19\u001b[0m \u001b[0;34m\u001b[0m\u001b[0m\n",
      "\u001b[0;32m<ipython-input-14-3e780be6f3f1>\u001b[0m in \u001b[0;36msteepest_descent\u001b[0;34m(u, x, J, DJ, a)\u001b[0m\n\u001b[1;32m     17\u001b[0m   \"\"\"\n\u001b[1;32m     18\u001b[0m   \u001b[0;32mif\u001b[0m \u001b[0mDJ\u001b[0m \u001b[0;32mis\u001b[0m \u001b[0;32mNone\u001b[0m\u001b[0;34m:\u001b[0m\u001b[0;34m\u001b[0m\u001b[0m\n\u001b[0;32m---> 19\u001b[0;31m       \u001b[0;32massert\u001b[0m \u001b[0mJ\u001b[0m \u001b[0;32mis\u001b[0m \u001b[0;32mnot\u001b[0m \u001b[0;32mNone\u001b[0m\u001b[0;34m,\u001b[0m \u001b[0;34m\"J must be provided if DJ isn't\"\u001b[0m\u001b[0;34m\u001b[0m\u001b[0m\n\u001b[0m\u001b[1;32m     20\u001b[0m       \u001b[0mDJ\u001b[0m \u001b[0;34m=\u001b[0m \u001b[0;32mlambda\u001b[0m \u001b[0mu_\u001b[0m \u001b[0;34m:\u001b[0m \u001b[0mD\u001b[0m\u001b[0;34m(\u001b[0m\u001b[0mJ\u001b[0m\u001b[0;34m,\u001b[0m\u001b[0mu_\u001b[0m\u001b[0;34m)\u001b[0m\u001b[0;34m\u001b[0m\u001b[0m\n\u001b[1;32m     21\u001b[0m   \u001b[0mDJu\u001b[0m \u001b[0;34m=\u001b[0m \u001b[0mDJ\u001b[0m\u001b[0;34m(\u001b[0m\u001b[0mu\u001b[0m\u001b[0;34m,\u001b[0m\u001b[0mx\u001b[0m\u001b[0;34m)\u001b[0m\u001b[0;34m\u001b[0m\u001b[0m\n",
      "\u001b[0;31mAssertionError\u001b[0m: J must be provided if DJ isn't"
     ]
    }
   ],
   "source": [
    "def c(w,x):\n",
    "    t = w.size/m\n",
    "    u = w.reshape((t,m,1))\n",
    "    c = 0.\n",
    "    \n",
    "    for s in range(t):\n",
    "        c += 0.5 * ( np.dot(x.T, np.dot(Q, x)) + np.dot(u[s].T, np.dot(R, u[s])) )\n",
    "        x = np.dot(A,x) + np.dot(B,u[s])\n",
    "        \n",
    "    return c[0,0]\n",
    "\n",
    "\n",
    "###### yet the steepest_descent algorithm here is not the one we used in 547\n",
    "\n",
    "\n",
    "c1 = lambda w : c(w,x1[0])\n",
    "c2 = lambda w : c(w,x2[0])\n",
    "\n",
    "w1 = u1.reshape((t*m))\n",
    "for _ in range(8):\n",
    "    w1 = steepest_descent(w1,c1)\n",
    "u1_ = w1.reshape((t,m,1))\n",
    "\n",
    "w2 = u2.reshape((t*m))\n",
    "for _ in range(8):\n",
    "    w2 = steepest_descent(w2,c2)\n",
    "u2_ = w2.reshape((t,m,1))"
   ]
  },
  {
   "cell_type": "markdown",
   "metadata": {},
   "source": [
    "g. Investigate how the optimal controls vary with respect to the ratio $q/r$ (i.e. let $q/r$ range from $0.1$ to $10$, compute the optimal control input, describe the trend you observe, and provide a visualization that clearly illustrates this trend)."
   ]
  },
  {
   "cell_type": "markdown",
   "metadata": {},
   "source": [
    "As the program shown below, with the $q/r$ ratio increase, the total cost of the system increase."
   ]
  },
  {
   "cell_type": "code",
   "execution_count": 20,
   "metadata": {},
   "outputs": [
    {
     "name": "stdout",
     "output_type": "stream",
     "text": [
      "fw\n",
      "[-380.110984]\n",
      "fw\n",
      "[ 688.21131223]\n",
      "fw\n",
      "[ 72.24013011]\n",
      "fw\n",
      "[ 0.30200033]\n",
      "fw\n",
      "[-0.69234808]\n",
      "fw\n",
      "[-0.07187043]\n",
      "fw\n",
      "[-0.00022387]\n",
      "fw\n",
      "[ 0.00069642]\n",
      "fw\n",
      "[  7.14941585e-05]\n",
      "Actual Cost\n",
      "169137.665927\n"
     ]
    }
   ],
   "source": [
    "q, r = 1.0, 10.0\n",
    "tri, k, b = 0.1, 1.0, 1.0\n",
    "t0 = 1\n",
    "tf = 10\n",
    "dt = 1\n",
    "\n",
    "#this function is modified from Prof. Sam Burden's EE548 lecture example\n",
    "def LQR(A,B,Q,R,Pt,tf, dt=1e-4):\n",
    "    t = 0.0\n",
    "    K = []\n",
    "    P = []\n",
    "    while t < tf:\n",
    "        Pi = sla.solve_continuous_are(A(tri, k, b, q, r),B(tri, k, b, q, r),\\\n",
    "                                      Q(tri, k, b, q, r),R(tri, k, b, q, r));\n",
    "        K.append(np.dot(la.inv(R(tri, k, b, q, r)), np.dot(B(tri, k, b, q, r).T,Pi)));\n",
    "        P.append(Pi);\n",
    "        t += dt;\n",
    "    K.append(np.dot(la.inv(R(tri, k, b, q, r)), np.dot(B(tri, k, b, q, r).T,Pt)))\n",
    "    P.append(Pt)\n",
    "    return np.asarray(K), np.asarray(P)\n",
    "\n",
    "A = lambda tri, k, b, q, r : np.identity(2) + np.dot(tri, np.array([[0.0,1.0],[-k,-b]]))\n",
    "B = lambda tri, k, b, q, r : np.dot(tri, np.array([[0],[1]]))\n",
    "Q = lambda tri, k, b, q, r : np.dot(q*tri, np.identity(2))\n",
    "R = lambda tri, k, b, q, r : np.dot(r*tri, np.identity(1))\n",
    "Pt = np.zeros((2,2));\n",
    "K,P = LQR(A,B,Q,R,Pt,10,1)\n",
    "\n",
    "def u_out(t,x):\n",
    "    return -np.dot(K[int(t/dt)],x)\n",
    "\n",
    "def f(t,x,u):\n",
    "    return np.dot(A(tri, k, b, q, r),x) + np.dot(B(tri, k, b, q, r),u)\n",
    "\n",
    "def springMassCost(x,u):\n",
    "    J = 0.0\n",
    "    for i in range(len(x[:,0])):\n",
    "        J += .5*np.dot(np.dot(x[i,:].transpose(),P[i]), x[i,:])\n",
    "    return J\n",
    "\n",
    "x0 = np.asarray([1.0,0.0]) #Initial condition\n",
    "t_spring,x_spring,u_spring = lst.forward_euler(f=f,t=tf,x=x0,utx=u_out,dt=dt,return_u=True)\n",
    "u_spring = np.append(u_spring,[0.0])\n",
    "print ('Actual Cost')\n",
    "print (springMassCost(x_spring,u_spring))"
   ]
  },
  {
   "cell_type": "code",
   "execution_count": 19,
   "metadata": {},
   "outputs": [
    {
     "name": "stdout",
     "output_type": "stream",
     "text": [
      "fw\n",
      "[-381.10680589]\n",
      "fw\n",
      "[ 691.90737495]\n",
      "fw\n",
      "[ 69.1707375]\n",
      "fw\n",
      "[-0.38295556]\n",
      "fw\n",
      "[-0.72768976]\n",
      "fw\n",
      "[-0.06491242]\n",
      "fw\n",
      "[ 0.00114294]\n",
      "fw\n",
      "[ 0.00075691]\n",
      "fw\n",
      "[  6.00749817e-05]\n",
      "Actual Cost\n",
      "17025.8896899\n"
     ]
    }
   ],
   "source": [
    "q, r = 1.0, 1.0\n",
    "tri, k, b = 0.1, 1.0, 1.0\n",
    "t0 = 1\n",
    "tf = 10\n",
    "dt = 1\n",
    "\n",
    "#this function is modified from Prof. Sam Burden's EE548 lecture example\n",
    "def LQR(A,B,Q,R,Pt,tf, dt=1e-4):\n",
    "    t = 0.0\n",
    "    K = []\n",
    "    P = []\n",
    "    while t < tf:\n",
    "        Pi = sla.solve_continuous_are(A(tri, k, b, q, r),B(tri, k, b, q, r),\\\n",
    "                                      Q(tri, k, b, q, r),R(tri, k, b, q, r));\n",
    "        K.append(np.dot(la.inv(R(tri, k, b, q, r)), np.dot(B(tri, k, b, q, r).T,Pi)));\n",
    "        P.append(Pi);\n",
    "        t += dt;\n",
    "    K.append(np.dot(la.inv(R(tri, k, b, q, r)), np.dot(B(tri, k, b, q, r).T,Pt)))\n",
    "    P.append(Pt)\n",
    "    return np.asarray(K), np.asarray(P)\n",
    "\n",
    "A = lambda tri, k, b, q, r : np.identity(2) + np.dot(tri, np.array([[0.0,1.0],[-k,-b]]))\n",
    "B = lambda tri, k, b, q, r : np.dot(tri, np.array([[0],[1]]))\n",
    "Q = lambda tri, k, b, q, r : np.dot(q*tri, np.identity(2))\n",
    "R = lambda tri, k, b, q, r : np.dot(r*tri, np.identity(1))\n",
    "Pt = np.zeros((2,2));\n",
    "K,P = LQR(A,B,Q,R,Pt,10,1)\n",
    "\n",
    "def u_out(t,x):\n",
    "    return -np.dot(K[int(t/dt)],x)\n",
    "\n",
    "def f(t,x,u):\n",
    "    return np.dot(A(tri, k, b, q, r),x) + np.dot(B(tri, k, b, q, r),u)\n",
    "\n",
    "def springMassCost(x,u):\n",
    "    J = 0.0\n",
    "    for i in range(len(x[:,0])):\n",
    "        J += .5*np.dot(np.dot(x[i,:].transpose(),P[i]), x[i,:])\n",
    "    return J\n",
    "\n",
    "x0 = np.asarray([1.0,0.0]) #Initial condition\n",
    "t_spring,x_spring,u_spring = lst.forward_euler(f=f,t=tf,x=x0,utx=u_out,dt=dt,return_u=True)\n",
    "u_spring = np.append(u_spring,[0.0])\n",
    "print ('Actual Cost')\n",
    "print (springMassCost(x_spring,u_spring))"
   ]
  },
  {
   "cell_type": "code",
   "execution_count": 18,
   "metadata": {
    "scrolled": true
   },
   "outputs": [
    {
     "name": "stdout",
     "output_type": "stream",
     "text": [
      "fw\n",
      "[-390.78166212]\n",
      "fw\n",
      "[ 728.33118767]\n",
      "fw\n",
      "[ 37.46276918]\n",
      "fw\n",
      "[-5.542432]\n",
      "fw\n",
      "[-0.62928502]\n",
      "fw\n",
      "[ 0.02631521]\n",
      "fw\n",
      "[ 0.00749294]\n",
      "fw\n",
      "[  8.26606864e-05]\n",
      "fw\n",
      "[ -7.09708078e-05]\n",
      "Actual Cost\n",
      "18174.1013284\n"
     ]
    }
   ],
   "source": [
    "q, r = 10.0, 1.0\n",
    "tri, k, b = 0.1, 1.0, 1.0\n",
    "t0 = 1\n",
    "tf = 10\n",
    "dt = 1\n",
    "\n",
    "#this function is modified from Prof. Sam Burden's EE548 lecture example\n",
    "def LQR(A,B,Q,R,Pt,tf, dt=1e-4):\n",
    "    t = 0.0\n",
    "    K = []\n",
    "    P = []\n",
    "    while t < tf:\n",
    "        Pi = sla.solve_continuous_are(A(tri, k, b, q, r),B(tri, k, b, q, r),\\\n",
    "                                      Q(tri, k, b, q, r),R(tri, k, b, q, r));\n",
    "        K.append(np.dot(la.inv(R(tri, k, b, q, r)), np.dot(B(tri, k, b, q, r).T,Pi)));\n",
    "        P.append(Pi);\n",
    "        t += dt;\n",
    "    K.append(np.dot(la.inv(R(tri, k, b, q, r)), np.dot(B(tri, k, b, q, r).T,Pt)))\n",
    "    P.append(Pt)\n",
    "    return np.asarray(K), np.asarray(P)\n",
    "\n",
    "A = lambda tri, k, b, q, r : np.identity(2) + np.dot(tri, np.array([[0.0,1.0],[-k,-b]]))\n",
    "B = lambda tri, k, b, q, r : np.dot(tri, np.array([[0],[1]]))\n",
    "Q = lambda tri, k, b, q, r : np.dot(q*tri, np.identity(2))\n",
    "R = lambda tri, k, b, q, r : np.dot(r*tri, np.identity(1))\n",
    "Pt = np.zeros((2,2));\n",
    "K,P = LQR(A,B,Q,R,Pt,10,1)\n",
    "\n",
    "def u_out(t,x):\n",
    "    return -np.dot(K[int(t/dt)],x)\n",
    "\n",
    "def f(t,x,u):\n",
    "    return np.dot(A(tri, k, b, q, r),x) + np.dot(B(tri, k, b, q, r),u)\n",
    "\n",
    "def springMassCost(x,u):\n",
    "    J = 0.0\n",
    "    for i in range(len(x[:,0])):\n",
    "        J += .5*np.dot(np.dot(x[i,:].transpose(),P[i]), x[i,:])\n",
    "    return J\n",
    "\n",
    "x0 = np.asarray([1.0,0.0]) #Initial condition\n",
    "t_spring,x_spring,u_spring = lst.forward_euler(f=f,t=tf,x=x0,utx=u_out,dt=dt,return_u=True)\n",
    "u_spring = np.append(u_spring,[0.0])\n",
    "print ('Actual Cost')\n",
    "print (springMassCost(x_spring,u_spring))"
   ]
  },
  {
   "cell_type": "code",
   "execution_count": 8,
   "metadata": {},
   "outputs": [
    {
     "data": {
      "text/plain": [
       "<matplotlib.legend.Legend at 0x7fb9cae38be0>"
      ]
     },
     "execution_count": 8,
     "metadata": {},
     "output_type": "execute_result"
    },
    {
     "data": {
      "image/png": "[encoded data removed]",
      "text/plain": [
       "<matplotlib.figure.Figure at 0x7fb9c7037d68>"
      ]
     },
     "metadata": {},
     "output_type": "display_data"
    }
   ],
   "source": [
    "from matplotlib import cm\n",
    "import numpy as np\n",
    "from scipy import linalg as la\n",
    "%matplotlib inline\n",
    "\n",
    "def riccati(A,B,Q,R,P):\n",
    "    # optimal control is linear state feedback \n",
    "    K_ = np.dot( la.inv(np.dot(B.T,np.dot(P,B)) + R), np.dot(B.T,np.dot(P,A)) )\n",
    "    # optimal value is quadratic in state\n",
    "    P_ = np.dot( (A - np.dot(B,K_)).T, np.dot(P, (A - np.dot(B,K_))) + np.dot(K_.T, np.dot(R, K_)) + Q )\n",
    "    return K_,P_\n",
    "\n",
    "n = 2\n",
    "m = 1\n",
    "\n",
    "def lqr(t,kappa=1,beta=1,q=1,r=1,Delta=1e-1):\n",
    "    A = np.identity(n) + Delta * np.array([[0,1],[-kappa,-beta]])\n",
    "    B = Delta * np.array([[0],[1]])\n",
    "    Q = q * np.identity(n) # running state cost\n",
    "    R = r * np.identity(m) # running control cost\n",
    "\n",
    "    K = np.zeros((t,m,n)) # linear state feedback gain matrix\n",
    "    P = np.zeros((t+1,n,n)) # cost-to-go\n",
    "\n",
    "    Pt = np.zeros((n,n)) # final state cost\n",
    "    P[t] = Pt\n",
    "\n",
    "    # loop over times\n",
    "    for s in range(t)[::-1]: # loop backward in time\n",
    "        K[s],P[s] = riccati(A,B,Q,R,P[s+1])\n",
    "        \n",
    "    return A,B,Q,R,K,P\n",
    "\n",
    "t = 10\n",
    "\n",
    "u1 = np.zeros((t,m,1))\n",
    "x1 = np.zeros((t+1,n,1))\n",
    "x1[0] = [[1],[0]]\n",
    "v1 = np.zeros((t))\n",
    "\n",
    "import pylab as plt\n",
    "fig = plt.figure(figsize=(8,8)); plt.clf()\n",
    "\n",
    "num = 10\n",
    "lw = 2; ms = 10\n",
    "\n",
    "A,B,Q,R,K,P = lqr(t,q=0.1,r=1.)\n",
    "for s in range(t):\n",
    "    u1[s] = np.dot(-K[s],x1[s])\n",
    "    x1[s+1] = np.dot(A,x1[s]) + np.dot(B, u1[s])\n",
    "    v1[s] = 0.5 * np.dot( x1[s].T, np.dot(P[s], x1[s]) )\n",
    "\n",
    "\n",
    "plt.plot(u1[:,0,0],'.-',lw=lw,ms=ms,color=cm.PuOr(1.*c/num),label=r'$q/r =%0.1f$'%q)\n",
    "plt.ylabel(r'input 1 ($u_1$)')\n",
    "plt.legend(loc='best',ncol=2)"
   ]
  },
  {
   "cell_type": "code",
   "execution_count": 9,
   "metadata": {},
   "outputs": [
    {
     "data": {
      "text/plain": [
       "<matplotlib.legend.Legend at 0x7fb9cae338d0>"
      ]
     },
     "execution_count": 9,
     "metadata": {},
     "output_type": "execute_result"
    },
    {
     "data": {
      "image/png": "[encoded data removed]",
      "text/plain": [
       "<matplotlib.figure.Figure at 0x7fb9c6d5a358>"
      ]
     },
     "metadata": {},
     "output_type": "display_data"
    }
   ],
   "source": [
    "A,B,Q,R,K,P = lqr(t,q=0.5,r=1.)\n",
    "for s in range(t):\n",
    "    u1[s] = np.dot(-K[s],x1[s])\n",
    "    x1[s+1] = np.dot(A,x1[s]) + np.dot(B, u1[s])\n",
    "    v1[s] = 0.5 * np.dot( x1[s].T, np.dot(P[s], x1[s]) )\n",
    "\n",
    "\n",
    "plt.plot(u1[:,0,0],'.-',lw=lw,ms=ms,color=cm.PuOr(1.*c/num),label=r'$q/r =%0.1f$'%q)\n",
    "plt.ylabel(r'input 1 ($u_1$)')\n",
    "plt.legend(loc='best',ncol=2)"
   ]
  },
  {
   "cell_type": "code",
   "execution_count": 10,
   "metadata": {},
   "outputs": [
    {
     "data": {
      "text/plain": [
       "<matplotlib.legend.Legend at 0x7fb9c71bd7b8>"
      ]
     },
     "execution_count": 10,
     "metadata": {},
     "output_type": "execute_result"
    },
    {
     "data": {
      "image/png": "[encoded data removed]",
      "text/plain": [
       "<matplotlib.figure.Figure at 0x7fb9c706c828>"
      ]
     },
     "metadata": {},
     "output_type": "display_data"
    }
   ],
   "source": [
    "A,B,Q,R,K,P = lqr(t,q=3.,r=1.)\n",
    "for s in range(t):\n",
    "    u1[s] = np.dot(-K[s],x1[s])\n",
    "    x1[s+1] = np.dot(A,x1[s]) + np.dot(B, u1[s])\n",
    "    v1[s] = 0.5 * np.dot( x1[s].T, np.dot(P[s], x1[s]) )\n",
    "\n",
    "\n",
    "plt.plot(u1[:,0,0],'.-',lw=lw,ms=ms,color=cm.PuOr(1.*c/num),label=r'$q/r =%0.1f$'%q)\n",
    "plt.ylabel(r'input 1 ($u_1$)')\n",
    "plt.legend(loc='best',ncol=2)"
   ]
  },
  {
   "cell_type": "code",
   "execution_count": 11,
   "metadata": {},
   "outputs": [
    {
     "data": {
      "text/plain": [
       "<matplotlib.legend.Legend at 0x7fb9c727f828>"
      ]
     },
     "execution_count": 11,
     "metadata": {},
     "output_type": "execute_result"
    },
    {
     "data": {
      "image/png": "[encoded data removed]",
      "text/plain": [
       "<matplotlib.figure.Figure at 0x7fb9c6dce4e0>"
      ]
     },
     "metadata": {},
     "output_type": "display_data"
    }
   ],
   "source": [
    "A,B,Q,R,K,P = lqr(t,q=7,r=1.)\n",
    "for s in range(t):\n",
    "    u1[s] = np.dot(-K[s],x1[s])\n",
    "    x1[s+1] = np.dot(A,x1[s]) + np.dot(B, u1[s])\n",
    "    v1[s] = 0.5 * np.dot( x1[s].T, np.dot(P[s], x1[s]) )\n",
    "\n",
    "\n",
    "plt.plot(u1[:,0,0],'.-',lw=lw,ms=ms,color=cm.PuOr(1.*c/num),label=r'$q/r =%0.1f$'%q)\n",
    "plt.ylabel(r'input 1 ($u_1$)')\n",
    "plt.legend(loc='best',ncol=2)"
   ]
  },
  {
   "cell_type": "code",
   "execution_count": 12,
   "metadata": {},
   "outputs": [
    {
     "data": {
      "text/plain": [
       "<matplotlib.legend.Legend at 0x7fb9c6deccc0>"
      ]
     },
     "execution_count": 12,
     "metadata": {},
     "output_type": "execute_result"
    },
    {
     "data": {
      "image/png": "[encoded data removed]",
      "text/plain": [
       "<matplotlib.figure.Figure at 0x7fb9c6de2cf8>"
      ]
     },
     "metadata": {},
     "output_type": "display_data"
    }
   ],
   "source": [
    "A,B,Q,R,K,P = lqr(t,q=10,r=1.)\n",
    "for s in range(t):\n",
    "    u1[s] = np.dot(-K[s],x1[s])\n",
    "    x1[s+1] = np.dot(A,x1[s]) + np.dot(B, u1[s])\n",
    "    v1[s] = 0.5 * np.dot( x1[s].T, np.dot(P[s], x1[s]) )\n",
    "\n",
    "\n",
    "plt.plot(u1[:,0,0],'.-',lw=lw,ms=ms,color=cm.PuOr(1.*c/num),label=r'$q/r =%0.1f$'%q)\n",
    "plt.ylabel(r'input 1 ($u_1$)')\n",
    "plt.legend(loc='best',ncol=2)"
   ]
  },
  {
   "cell_type": "markdown",
   "metadata": {},
   "source": [
    "h. Compare the results from (e.)/(f.) with the results obtained from the solution to the continuous-time linear quadratic regulator (CT-LQR):\n",
    "\n",
    "$$A = \\frac{1}{\\Delta} (A^\\Delta - I),\\ B = \\frac{1}{\\Delta} B^\\Delta,\\ Q = \\frac{1}{\\Delta} Q^\\Delta,\\ R = \\frac{1}{\\Delta} R^\\Delta,$$\n",
    "\n",
    "$$u^*_s = - K_s x_s,\\ K_s = R^{-1} B^T P_s,$$\n",
    "\n",
    "$$v^*_s = \\frac{1}{2} x_s^T P_s x_s,\\ \\dot{P_s} = -(A^T P_s + P_s A - P_s B R^{-1} B^T P_s + Q).$$\n",
    "\n",
    "Investigate how the comparison varies with respect to $\\Delta$ (i.e. let $\\Delta$ range from $\\sim 10^0$ to $\\sim 10^{-8}$ and plot the norm of the difference between the optimal inputs and values as a function of $\\Delta$). \n"
   ]
  },
  {
   "cell_type": "markdown",
   "metadata": {},
   "source": [
    "From the experiment below we find that, smaller the $\\Delta$ is, more accurate the simulation and solution will get. With small $\\Delta$, the simulated trajectories are much smoother and solution is much effective."
   ]
  },
  {
   "cell_type": "code",
   "execution_count": 55,
   "metadata": {},
   "outputs": [],
   "source": [
    "def tvCTLQR(A,B,Q,R,Pt,tf,dt=1e-2):\n",
    "    t_ = 0.0\n",
    "    K = []\n",
    "    P = []\n",
    "    while t_ < tf:\n",
    "        P_ = sla.solve_continuous_are(A(tri, k, b, q, r),B(tri, k, b, q, r),Q(tri, k, b, q, r),R(tri, k, b, q, r))\n",
    "        K_ = np.dot(la.inv(R(tri, k, b, q, r )), np.dot(B(tri, k, b, q, r ).T,P_))\n",
    "        K.append(K_)\n",
    "        P.append(P_)\n",
    "        t_ += dt\n",
    "    K_ = np.dot(la.inv(R(tri, k, b, q, r )), np.dot(B(tri, k, b, q, r ).T,Pt))\n",
    "    K.append(K_)\n",
    "    P.append(Pt)\n",
    "    return np.asarray(K),np.asarray(P)\n",
    "\n",
    "Ac = lambda tri, k, b, q, r : 1/tri * (A(tri, k, b, q, r) - np.identity(2))\n",
    "Bc = lambda tri, k, b, q, r : 1/tri * B(tri, k, b, q, r)\n",
    "Qc = lambda tri, k, b, q, r : 1/tri * Q(tri, k, b, q, r)\n",
    "Rc = lambda tri, k, b, q, r : 1/tri * R(tri, k, b, q, r)\n",
    "\n",
    "x0 = np.asarray([1.0,0.0])\n",
    "tf = 10\n",
    "dt = 1e-3\n",
    "K,P = tvCTLQR(Ac,Bc,Qc,Rc,Pt,tf,dt = dt)"
   ]
  },
  {
   "cell_type": "code",
   "execution_count": 59,
   "metadata": {},
   "outputs": [
    {
     "name": "stdout",
     "output_type": "stream",
     "text": [
      "Actual Cost\n",
      "551.3083399552316\n"
     ]
    },
    {
     "data": {
      "image/png": "[encoded data removed]",
      "text/plain": [
       "<matplotlib.figure.Figure at 0x7fa8d0cfb490>"
      ]
     },
     "metadata": {},
     "output_type": "display_data"
    }
   ],
   "source": [
    "def u_c(t,x):\n",
    "    return -np.dot(K[int(t/dt)],x)\n",
    "    \n",
    "def fc(t,x,u):\n",
    "    return np.dot(Ac(tri, k, b, q, r),x) + np.dot(Bc(tri, k, b, q, r),u)\n",
    "\n",
    "t_spring,x_spring,u_spring = forward_euler(f=fc,t=tf,x=x0,utx=u_c,dt=dt,return_u=True)\n",
    "u_spring = np.append(u_spring,[0.0])\n",
    "\n",
    "print ('Actual Cost')\n",
    "print (springMassCost(x_spring,u_spring))\n",
    "plt.plot(x_spring[:,0])\n",
    "plt.plot(x_spring[:,1])\n",
    "plt.title('LQR Control of Project System')\n",
    "plt.xlabel('Time Step')\n",
    "plt.ylabel('State')\n",
    "plt.show()"
   ]
  },
  {
   "cell_type": "code",
   "execution_count": 60,
   "metadata": {},
   "outputs": [
    {
     "name": "stdout",
     "output_type": "stream",
     "text": [
      "Actual Cost\n",
      "246.46798161123772\n"
     ]
    },
    {
     "data": {
      "image/png": "[encoded data removed]",
      "text/plain": [
       "<matplotlib.figure.Figure at 0x7fa8d079a9d0>"
      ]
     },
     "metadata": {},
     "output_type": "display_data"
    }
   ],
   "source": [
    "x0 = np.asarray([0.0,1.0])\n",
    "t_spring,x_spring,u_spring = forward_euler(f=fc,t=tf,x=x0,utx=u_c,dt=dt,return_u=True)\n",
    "u_spring = np.append(u_spring,[0.0])\n",
    "\n",
    "print ('Actual Cost')\n",
    "print (springMassCost(x_spring,u_spring))\n",
    "plt.plot(x_spring[:,0])\n",
    "plt.plot(x_spring[:,1])\n",
    "plt.title('LQR Control of Project System')\n",
    "plt.xlabel('Time Step')\n",
    "plt.ylabel('State')\n",
    "plt.show()"
   ]
  },
  {
   "cell_type": "code",
   "execution_count": 62,
   "metadata": {},
   "outputs": [
    {
     "name": "stdout",
     "output_type": "stream",
     "text": [
      "Actual Cost\n",
      "1.9250887541697095\n"
     ]
    },
    {
     "data": {
      "image/png": "[encoded data removed]",
      "text/plain": [
       "<matplotlib.figure.Figure at 0x7fa8d0cfb4d0>"
      ]
     },
     "metadata": {},
     "output_type": "display_data"
    }
   ],
   "source": [
    "dt = 1\n",
    "K,P = tvCTLQR(Ac,Bc,Qc,Rc,Pt,tf,dt = dt)\n",
    "t_spring,x_spring,u_spring = forward_euler(f=fc,t=tf,x=x0,utx=u_c,dt=dt,return_u=True)\n",
    "u_spring = np.append(u_spring,[0.0])\n",
    "\n",
    "print ('Actual Cost')\n",
    "print (springMassCost(x_spring,u_spring))\n",
    "plt.plot(x_spring[:,0])\n",
    "plt.plot(x_spring[:,1])\n",
    "plt.title('LQR Control of Project System')\n",
    "plt.xlabel('Time Step')\n",
    "plt.ylabel('State')\n",
    "plt.show()"
   ]
  },
  {
   "cell_type": "markdown",
   "metadata": {},
   "source": [
    "**BONUS** show that the solution to (CT-LQR) can be obtained by taking the limit of the (DT-LQR) recursion from (d.)/(e.) as $\\Delta \\rightarrow 0$."
   ]
  },
  {
   "cell_type": "markdown",
   "metadata": {},
   "source": [
    "## application\n",
    "\n",
    "a. Specify an optimal control problem for a system of your choosing (e.g. a system from the paper you plan to present or the project you plan to complete for the class).  Be precise:  provide the mathematical definitions for all symbols.  Also, be clear:  provide plain language explanations for what each symbol corresponds to in the application."
   ]
  },
  {
   "cell_type": "markdown",
   "metadata": {},
   "source": [
    "For my final project, I am planning to finish a portion of my master thesis project. In a part of my master thesis project, I am trying to implement a robotic system that play physical games with human. To simulate a human robot physical game play scenario, we purpose a catch and dodge game where a robot is holding some object, and the human adversary is trying to catch such object, meanwhile the robot is trying to dodge the adversary's hand.\n",
    "\n",
    "Scoring:\n",
    "\n",
    "The robot and the human adversary will keep a score for each of themself. The human player will get 1 points when he successfully touch the object (senser feedback enable). In front of the robot, the is a 3 dimension area that defined as robot scoring area, where the robot will get 1 points if the human's hand goes across this area (If the human touch the object after crossing the area boundary, human will not score). However, the robot's object holding griper should not be stay in (or stay behind) the scoring area for more then 10 seconds, otherwise 1 point off. Human only suppose to use one hand to attach.\n",
    "\n",
    "Objective:\n",
    "\n",
    "A policy needs to be trained to generate trajectories for the robot gripper to try to maximize robot's score and minimize human adversary's score (maximize the ratio of robot score over human score). \n",
    "\n",
    "System:\n",
    "\n",
    "System State: (obj_pos, obj_qua, hand_pos, hand_qua)\n",
    "\n",
    "\"obj\" denote the spacial information of the object as well as robot's object holding gripper, and \"hand\" denote the spacial information of the human's hand. \"pos\" defined by a tuple (x, y, z) which represent the x, y, z position respect to the robot base_link. \"qua\" defined by tuple (x, y, z, w) which represent the quarterion value, where $x+y+z+w = 1$.\n",
    "\n",
    "Dynamic system dynamic is trivil for a practical robot,since a built-in control provide direct end-factor control in Cartesion space. I think it might be fine since it is already a hard enough reinforcement learing problem. If such dynamic is not desire for this class's purpose, I could try simplify the game rule and introduce non-trivil system dynamic to the system.\n",
    "\n",
    "Reward Function: a weighted sum of current robot score and human score $R(t) = W_1 * s_{robot}(t) + W_2 * s_{human}(t)$"
   ]
  },
  {
   "cell_type": "markdown",
   "metadata": {},
   "source": [
    "b. Discuss what methods have been applied in the literature to solve or approximate solutions to the optimal control problem from (a.), and what (if anything) is known about the solution.\n"
   ]
  },
  {
   "cell_type": "markdown",
   "metadata": {},
   "source": [
    "I only mentioned the project I want to complete in class, so no method from literature can be discuss....."
   ]
  },
  {
   "cell_type": "markdown",
   "metadata": {},
   "source": [
    "c. Attempt to apply a technique for optimal control to the problem from (a.).  You can try one of the methods discussed in class (e.g. directly apply the dynamic programming principle, or apply a numerical descent algorithm), one of the methods discussed in (b.), or another method of your choosing.  "
   ]
  },
  {
   "cell_type": "markdown",
   "metadata": {},
   "source": [
    "My attempt is to use reinforcement learning method to train stocastic policy represented by a fully connected neural networks. A prior policy is provided by behavioral cloning a human demostration from teleoperation. A human trajectory generator might be needed for training data generation. However, I am not sure how could a tradictional control method can be used in this setting..."
   ]
  },
  {
   "cell_type": "code",
   "execution_count": null,
   "metadata": {},
   "outputs": [],
   "source": []
  }
 ],
 "metadata": {
  "anaconda-cloud": {},
  "kernelspec": {
   "display_name": "Python 3",
   "language": "python",
   "name": "python3"
  },
  "language_info": {
   "codemirror_mode": {
    "name": "ipython",
    "version": 3
   },
   "file_extension": ".py",
   "mimetype": "text/x-python",
   "name": "python",
   "nbconvert_exporter": "python",
   "pygments_lexer": "ipython3",
   "version": "3.4.3"
  }
 },
 "nbformat": 4,
 "nbformat_minor": 1
}
